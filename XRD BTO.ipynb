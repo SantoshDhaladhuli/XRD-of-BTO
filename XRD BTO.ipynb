{
 "cells": [
  {
   "cell_type": "code",
   "execution_count": 36,
   "id": "bc0d1da1",
   "metadata": {},
   "outputs": [],
   "source": [
    "import numpy as np\n",
    "import pandas as pd\n",
    "import matplotlib.pyplot as plt\n",
    "import scipy.stats as st\n",
    "import math"
   ]
  },
  {
   "cell_type": "code",
   "execution_count": 37,
   "id": "350f6d9d",
   "metadata": {},
   "outputs": [],
   "source": [
    "def d_spacing(angle,wavelength = 1.54059):\n",
    "    s = ((wavelength)/(math.sin(angle * math.pi / 360)))/2\n",
    "    return s"
   ]
  },
  {
   "cell_type": "markdown",
   "id": "c4e94cf8",
   "metadata": {},
   "source": [
    "1st peak d - spacing\n",
    "\n",
    "2theta value: 22.35\n",
    "\n",
    "intensity: 2040.796"
   ]
  },
  {
   "cell_type": "code",
   "execution_count": 38,
   "id": "5d65214a",
   "metadata": {},
   "outputs": [
    {
     "data": {
      "text/plain": [
       "3.974560986998844"
      ]
     },
     "execution_count": 38,
     "metadata": {},
     "output_type": "execute_result"
    }
   ],
   "source": [
    "#1st peak d - spacing\n",
    "d_spacing(22.35)"
   ]
  },
  {
   "cell_type": "code",
   "execution_count": 39,
   "id": "b73bc9d7",
   "metadata": {},
   "outputs": [
    {
     "data": {
      "text/plain": [
       "2.826263072586322"
      ]
     },
     "execution_count": 39,
     "metadata": {},
     "output_type": "execute_result"
    }
   ],
   "source": [
    "#2nd peak d - spacing\n",
    "d_spacing(31.632)"
   ]
  },
  {
   "cell_type": "markdown",
   "id": "e1013177",
   "metadata": {},
   "source": [
    "The relation between $d_{hkl}$ and lattice parameters is as follows:\n",
    "$ \\frac{1}{{d_{hkl}}^2} = \\frac{h^2 + k^2}{{a}^2} + \\frac{l^2}{{c}^2}$"
   ]
  },
  {
   "cell_type": "code",
   "execution_count": 41,
   "id": "625231f4",
   "metadata": {},
   "outputs": [],
   "source": [
    "df = pd.read_excel(\"BTO.xlsx\")"
   ]
  },
  {
   "cell_type": "code",
   "execution_count": 42,
   "id": "d6954f0d",
   "metadata": {},
   "outputs": [
    {
     "data": {
      "text/html": [
       "<div>\n",
       "<style scoped>\n",
       "    .dataframe tbody tr th:only-of-type {\n",
       "        vertical-align: middle;\n",
       "    }\n",
       "\n",
       "    .dataframe tbody tr th {\n",
       "        vertical-align: top;\n",
       "    }\n",
       "\n",
       "    .dataframe thead th {\n",
       "        text-align: right;\n",
       "    }\n",
       "</style>\n",
       "<table border=\"1\" class=\"dataframe\">\n",
       "  <thead>\n",
       "    <tr style=\"text-align: right;\">\n",
       "      <th></th>\n",
       "      <th>#twotheta</th>\n",
       "      <th>yobs</th>\n",
       "      <th>ycal</th>\n",
       "      <th>bkg</th>\n",
       "      <th>diff</th>\n",
       "    </tr>\n",
       "  </thead>\n",
       "  <tbody>\n",
       "    <tr>\n",
       "      <th>0</th>\n",
       "      <td>10.000</td>\n",
       "      <td>1324.0</td>\n",
       "      <td>0</td>\n",
       "      <td>0</td>\n",
       "      <td>1324.0</td>\n",
       "    </tr>\n",
       "    <tr>\n",
       "      <th>1</th>\n",
       "      <td>10.002</td>\n",
       "      <td>1315.0</td>\n",
       "      <td>0</td>\n",
       "      <td>0</td>\n",
       "      <td>1315.0</td>\n",
       "    </tr>\n",
       "    <tr>\n",
       "      <th>2</th>\n",
       "      <td>10.004</td>\n",
       "      <td>1314.0</td>\n",
       "      <td>0</td>\n",
       "      <td>0</td>\n",
       "      <td>1314.0</td>\n",
       "    </tr>\n",
       "    <tr>\n",
       "      <th>3</th>\n",
       "      <td>10.006</td>\n",
       "      <td>1312.0</td>\n",
       "      <td>0</td>\n",
       "      <td>0</td>\n",
       "      <td>1312.0</td>\n",
       "    </tr>\n",
       "    <tr>\n",
       "      <th>4</th>\n",
       "      <td>10.008</td>\n",
       "      <td>1317.0</td>\n",
       "      <td>0</td>\n",
       "      <td>0</td>\n",
       "      <td>1317.0</td>\n",
       "    </tr>\n",
       "  </tbody>\n",
       "</table>\n",
       "</div>"
      ],
      "text/plain": [
       "   #twotheta    yobs  ycal  bkg    diff\n",
       "0     10.000  1324.0     0    0  1324.0\n",
       "1     10.002  1315.0     0    0  1315.0\n",
       "2     10.004  1314.0     0    0  1314.0\n",
       "3     10.006  1312.0     0    0  1312.0\n",
       "4     10.008  1317.0     0    0  1317.0"
      ]
     },
     "execution_count": 42,
     "metadata": {},
     "output_type": "execute_result"
    }
   ],
   "source": [
    "df.head()"
   ]
  },
  {
   "cell_type": "code",
   "execution_count": 43,
   "id": "22808bab",
   "metadata": {},
   "outputs": [],
   "source": [
    "X = np.array(df['#twotheta'])\n",
    "y = np.array(df['yobs'])"
   ]
  },
  {
   "cell_type": "code",
   "execution_count": 44,
   "id": "67ee2784",
   "metadata": {},
   "outputs": [
    {
     "data": {
      "image/png": "[encoded data removed]",
      "text/plain": [
       "<Figure size 432x288 with 1 Axes>"
      ]
     },
     "metadata": {
      "needs_background": "light"
     },
     "output_type": "display_data"
    }
   ],
   "source": [
    "plt.plot(X,y,color = \"red\")\n",
    "plt.xlabel(\"#twotheta\")\n",
    "plt.ylabel(\"Intensity\")\n",
    "plt.title(\"XRD of BTO\")\n",
    "plt.show()"
   ]
  }
 ],
 "metadata": {
  "kernelspec": {
   "display_name": "Python 3",
   "language": "python",
   "name": "python3"
  },
  "language_info": {
   "codemirror_mode": {
    "name": "ipython",
    "version": 3
   },
   "file_extension": ".py",
   "mimetype": "text/x-python",
   "name": "python",
   "nbconvert_exporter": "python",
   "pygments_lexer": "ipython3",
   "version": "3.8.8"
  }
 },
 "nbformat": 4,
 "nbformat_minor": 5
}
